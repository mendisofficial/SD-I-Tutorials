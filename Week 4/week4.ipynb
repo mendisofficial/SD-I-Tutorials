{
 "cells": [
  {
   "cell_type": "markdown",
   "id": "468c8440-35b2-4a0e-a287-9af55e193613",
   "metadata": {},
   "source": [
    "# Question 1: Printing Numbers with a For Loop\n",
    "Task: Write a for loop to print numbers from 1 to 5.\n",
    "Objective: Understand the basic syntax of a for loop."
   ]
  },
  {
   "cell_type": "code",
   "execution_count": null,
   "id": "efe199fb-ab91-4498-986c-bae4887fe292",
   "metadata": {},
   "outputs": [],
   "source": [
    "for i in range(1, 6):\n",
    "    print(i)"
   ]
  },
  {
   "cell_type": "markdown",
   "id": "53ff3b6d-1922-448d-a652-17aad43a429f",
   "metadata": {},
   "source": [
    "# Question 2: Counting Down with a While Loop\n",
    "Task: Create a while loop that counts down from 5 to 1.\n",
    "Objective: Learn how to use a while loop with a decrementing counter."
   ]
  },
  {
   "cell_type": "code",
   "execution_count": null,
   "id": "76d1209b-07ad-4f6b-a5b9-f770ce777429",
   "metadata": {},
   "outputs": [],
   "source": [
    "counter = 5\n",
    "\n",
    "while counter > 0:\n",
    "    print(counter)\n",
    "    counter -= 1"
   ]
  },
  {
   "cell_type": "markdown",
   "id": "e6602315-aa18-4f21-a4d8-88717a7047e5",
   "metadata": {},
   "source": [
    "# Question 3: Simple Sum with a While Loop\n",
    "Task: Use a while loop to sum numbers from 1 to 5.\n",
    "Objective: Practice accumulating a sum within a while loop."
   ]
  },
  {
   "cell_type": "code",
   "execution_count": null,
   "id": "1253475b-9c1d-4c8b-ac18-31ec0d706fab",
   "metadata": {},
   "outputs": [],
   "source": [
    "sum = 0\n",
    "\n",
    "i = 1\n",
    "\n",
    "while i <= 5:\n",
    "    sum += i\n",
    "    i += 1\n",
    "\n",
    "print(f\"The sum of numbers between 1 and 5 is: {sum}\")"
   ]
  },
  {
   "cell_type": "markdown",
   "id": "fd6de5f7-9cfd-41b5-a43f-48ff7f4edb30",
   "metadata": {},
   "source": [
    "# Question 4: Sum of Even Numbers\n",
    "Task: Write a program that sums all even numbers between 1 and 10 using a for loop.\n",
    "Objective: Practice using conditionals within a loop to select specific elements."
   ]
  },
  {
   "cell_type": "code",
   "execution_count": null,
   "id": "722f420e-e66d-489d-9176-8637fd728854",
   "metadata": {},
   "outputs": [],
   "source": [
    "sum = 0\n",
    "\n",
    "for i in range(1, 11):\n",
    "    if i % 2 == 0:\n",
    "        sum += i\n",
    "\n",
    "print(\"The sum of even numbers between 1 and 10 is:\", sum)"
   ]
  },
  {
   "cell_type": "markdown",
   "id": "3ad1db9c-907a-41e9-886d-5012d69046e4",
   "metadata": {},
   "source": [
    "# Question 5: User Input Loop\n",
    "Task: Create a program that asks the user to enter positive numbers, and stops asking when the user enters a negative number. Then, print the total sum of the entered positive numbers.\n",
    "Objective: Use a while loop that depends on user input."
   ]
  },
  {
   "cell_type": "code",
   "execution_count": null,
   "id": "ab3d3a80-8626-4683-8177-0f6bf9adae08",
   "metadata": {},
   "outputs": [],
   "source": [
    "sum = 0\n",
    "\n",
    "user_input = 0\n",
    "\n",
    "while user_input >= 0:\n",
    "    user_input = int(input(\"Enter a positive number: \"))\n",
    "    if user_input >= 0:\n",
    "        sum += user_input\n",
    "    else:\n",
    "        print(f\"The total sum of the entered positive numbers is {sum}\")\n",
    "        break"
   ]
  },
  {
   "cell_type": "markdown",
   "id": "9e15a243-55fb-4356-aa96-ef215cf6fd4d",
   "metadata": {},
   "source": [
    "# Question 6: Multiplication Table\n",
    "Task: Write a program that prints the multiplication table of a number entered by the user, from 1 to 10.\n",
    "Objective: Practice using for loops and user input."
   ]
  },
  {
   "cell_type": "code",
   "execution_count": null,
   "id": "7c33f6d1-f7b7-42be-b94a-3597c9577e1b",
   "metadata": {},
   "outputs": [],
   "source": [
    "number = int(input(\"Enter a number: \"))\n",
    "\n",
    "for i in range(1, 11):\n",
    "    print(f\"{number} x {i} = {number * i}\")"
   ]
  },
  {
   "cell_type": "markdown",
   "id": "777653e4-6a38-4f76-9ab3-0118afd922a8",
   "metadata": {},
   "source": [
    "# Question 7: Factorial Calculation\n",
    "Task: Calculate the factorial of a given number using a while loop. The factorial of a number n is the product of all positive integers less than or equal to n.\n",
    "Objective: Use a while loop to perform repeated multiplication."
   ]
  },
  {
   "cell_type": "code",
   "execution_count": null,
   "id": "57f56542-f1a3-4fb7-ac86-ec051a193ee2",
   "metadata": {},
   "outputs": [],
   "source": [
    "number = int(input(\"Enter a number: \"))\n",
    "\n",
    "factorial = 1\n",
    "\n",
    "while number > 0:\n",
    "    factorial *= number\n",
    "    number -= 1\n",
    "    \n",
    "print(\"The factorial is\", factorial)"
   ]
  },
  {
   "cell_type": "markdown",
   "id": "c333ccc8-7c89-40a6-9d77-03a8b4b0e7dd",
   "metadata": {},
   "source": [
    "# Question 8: Finding Prime Numbers\n",
    "Task: Use a for loop to print all prime numbers between 2 and 20.\n",
    "Objective: Combine loops with conditional logic to solve a more complex problem."
   ]
  },
  {
   "cell_type": "code",
   "execution_count": null,
   "id": "70649701-800c-4b0f-b50f-6443ddbe4979",
   "metadata": {},
   "outputs": [],
   "source": [
    "for i in range(2, 21):\n",
    "    prime = True\n",
    "    for j in range(2, i):\n",
    "        if i % j == 0:\n",
    "            prime = False\n",
    "            break\n",
    "    if prime:\n",
    "        print(i)"
   ]
  },
  {
   "cell_type": "markdown",
   "id": "fdd25ccf-b21a-4ac4-8c64-f42929372cd4",
   "metadata": {},
   "source": [
    "# Question 8: Number Pattern\n",
    "Task: Generate the following pattern using nested loops:\n",
    "```\n",
    "Expected output:\n",
    "1\n",
    "22\n",
    "333\n",
    "4444\n",
    "55555\n",
    "```\n",
    "Objective: Practice nested loops to create patterns.\n"
   ]
  },
  {
   "cell_type": "code",
   "execution_count": null,
   "id": "d1955fc6-ed50-4425-b157-cd75f1f13325",
   "metadata": {},
   "outputs": [],
   "source": [
    "for i in range(1, 6):\n",
    "    for j in range(1, i+1):\n",
    "        print(i, end=\"\")\n",
    "    print()"
   ]
  }
 ],
 "metadata": {
  "kernelspec": {
   "display_name": "Python 3 (ipykernel)",
   "language": "python",
   "name": "python3"
  },
  "language_info": {
   "codemirror_mode": {
    "name": "ipython",
    "version": 3
   },
   "file_extension": ".py",
   "mimetype": "text/x-python",
   "name": "python",
   "nbconvert_exporter": "python",
   "pygments_lexer": "ipython3",
   "version": "3.12.7"
  }
 },
 "nbformat": 4,
 "nbformat_minor": 5
}
